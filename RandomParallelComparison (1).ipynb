{
 "cells": [
  {
   "cell_type": "code",
   "execution_count": 1,
   "id": "6653307d",
   "metadata": {},
   "outputs": [],
   "source": [
    "from pyspark.sql import SparkSession, Window\n",
    "from pyspark.sql.functions import col, udf, array, min as smin, lit, count, isnan, when, sum as spark_sum, rand\n",
    "from pyspark.sql.types import IntegerType, FloatType\n",
    "from pyspark.ml.feature import MinMaxScaler, VectorAssembler\n",
    "from pyspark.ml.clustering import KMeans\n",
    "from pyspark.ml.evaluation import ClusteringEvaluator\n",
    "from pyspark.sql.functions import col, expr\n",
    "from pyspark.sql.functions import explode\n",
    "from sklearn.datasets import fetch_kddcup99\n",
    "from sklearn.metrics.pairwise import euclidean_distances\n",
    "\n",
    "\n",
    "import time\n",
    "import numpy as np\n",
    "import pandas as pd\n",
    "import seaborn as sns\n",
    "from sklearn.datasets import make_blobs\n",
    "from pyspark.sql import DataFrame\n",
    "from pyspark.sql.types import StructType, StructField, DoubleType\n",
    "\n",
    "import matplotlib.pyplot as plt"
   ]
  },
  {
   "cell_type": "code",
   "execution_count": 2,
   "id": "09458350",
   "metadata": {},
   "outputs": [],
   "source": [
    "def initiate_session(ncores, spark=spark):\n",
    "    \n",
    "    spark.stop()\n",
    "\n",
    "    spark = SparkSession.builder \\\n",
    "        .config(\"spark.executor.cores\", str(ncores))\\\n",
    "        .master(\"spark://10.67.22.21:7077\")\\\n",
    "        .appName(\"k-meaner\")\\\n",
    "        .config('spark.jars.packages', 'org.apache.hadoop:hadoop-common:3.2.0')\\\n",
    "        .config('spark.jars.packages', 'org.apache.hadoop:hadoop-aws:3.2.0')\\\n",
    "        .config('spark.jars.packages', 'com.amazonaws:aws-java-sdk:1.11.375')\\\n",
    "        .config(\"spark.executor.memory\", \"4096m\")\\\n",
    "        .config(\"spark.sql.execution.arrow.pyspark.enabled\", \"true\")\\\n",
    "        .config(\"spark.sql.execution.arrow.pyspark.fallback.enabled\", \"false\")\\\n",
    "        .config('spark.hadoop.fs.s3a.aws.credentials.provider', 'org.apache.hadoop.fs.s3a.SimpleAWSCredentialsProvider')\\\n",
    "        .config('spark.hadoop.fs.s3a.access.key', '79f100fb66c34d338833171110cb12fe')\\\n",
    "        .config('spark.hadoop.fs.s3a.secret.key', '--------------------------------')\\\n",
    "        .config('spark.hadoop.fs.s3a.endpoint', 'https://cloud-areapd.pd.infn.it:5210')\\\n",
    "        .config(\"spark.hadoop.fs.s3a.impl\", \"org.apache.hadoop.fs.s3a.S3AFileSystem\") \\\n",
    "        .config(\"spark.hadoop.fs.s3a.metadatastore.impl\", \"org.apache.hadoop.fs.s3a.s3guard.NullMetadataStore\") \\\n",
    "        .config(\"spark.hadoop.fs.s3a.path.style.access\", \"true\") \\\n",
    "        .config(\"spark.hadoop.fs.s3a.connection.ssl.enabled\",\"false\") \\\n",
    "        .config(\"com.amazonaws.sdk.disableCertChecking\",\"true\") \\\n",
    "        .getOrCreate()\n",
    "\n",
    "    sc = spark.sparkContext\n",
    "    sc.setLogLevel(\"ERROR\")\n",
    "    \n",
    "    return spark, sc\n",
    "\n",
    "ncores = 4\n",
    "# 4 cores\n",
    "spark, sc = initiate_session(ncores=ncores)"
   ]
  },
  {
   "cell_type": "code",
   "execution_count": 3,
   "id": "e17d0aba",
   "metadata": {},
   "outputs": [
    {
     "data": {
      "text/html": [
       "\n",
       "            <div>\n",
       "                <p><b>SparkSession - in-memory</b></p>\n",
       "                \n",
       "        <div>\n",
       "            <p><b>SparkContext</b></p>\n",
       "\n",
       "            <p><a href=\"http://master:4040\">Spark UI</a></p>\n",
       "\n",
       "            <dl>\n",
       "              <dt>Version</dt>\n",
       "                <dd><code>v3.4.1</code></dd>\n",
       "              <dt>Master</dt>\n",
       "                <dd><code>spark://10.67.22.21:7077</code></dd>\n",
       "              <dt>AppName</dt>\n",
       "                <dd><code>k-meaner</code></dd>\n",
       "            </dl>\n",
       "        </div>\n",
       "        \n",
       "            </div>\n",
       "        "
      ],
      "text/plain": [
       "<pyspark.sql.session.SparkSession at 0x7f7553a599f0>"
      ]
     },
     "execution_count": 3,
     "metadata": {},
     "output_type": "execute_result"
    }
   ],
   "source": [
    "spark"
   ]
  },
  {
   "cell_type": "code",
   "execution_count": 4,
   "id": "06982c79",
   "metadata": {},
   "outputs": [
    {
     "data": {
      "text/html": [
       "\n",
       "        <div>\n",
       "            <p><b>SparkContext</b></p>\n",
       "\n",
       "            <p><a href=\"http://master:4040\">Spark UI</a></p>\n",
       "\n",
       "            <dl>\n",
       "              <dt>Version</dt>\n",
       "                <dd><code>v3.4.1</code></dd>\n",
       "              <dt>Master</dt>\n",
       "                <dd><code>spark://10.67.22.21:7077</code></dd>\n",
       "              <dt>AppName</dt>\n",
       "                <dd><code>k-meaner</code></dd>\n",
       "            </dl>\n",
       "        </div>\n",
       "        "
      ],
      "text/plain": [
       "<SparkContext master=spark://10.67.22.21:7077 appName=k-meaner>"
      ]
     },
     "execution_count": 4,
     "metadata": {},
     "output_type": "execute_result"
    }
   ],
   "source": [
    "sc"
   ]
  },
  {
   "cell_type": "markdown",
   "id": "6756273d",
   "metadata": {},
   "source": [
    "# BEST RANDOM KMEANS"
   ]
  },
  {
   "cell_type": "code",
   "execution_count": 7,
   "id": "bad94dd5",
   "metadata": {
    "scrolled": false
   },
   "outputs": [],
   "source": [
    "# load data\n",
    "kdd = spark.createDataFrame(pd.read_csv(\"./data.csv\"))\n",
    "\n",
    "# List of columns to be ignored\n",
    "\n",
    "ignored_cols = [\"labels\", \"centr\", \"cost\", \"w\"]\n",
    "\n",
    "ncols = len([c for c in kdd.columns if c not in ignored_cols]) #n° of columns ccontaining the actual data\n",
    "\n",
    "#kdd.printSchema()"
   ]
  },
  {
   "cell_type": "code",
   "execution_count": 5,
   "id": "500e690c",
   "metadata": {},
   "outputs": [],
   "source": [
    "#%%writefile kmeans_random.py\n",
    "\n",
    "# Function to calculate Euclidean distance between two points x and y\n",
    "def euclidean_distance(x, y):\n",
    "    return np.linalg.norm(np.array(x) - np.array(y))\n",
    "\n",
    "# Function to find the index of the minimum value in a list x\n",
    "def argmin(x):\n",
    "    return x.index(min(x))\n",
    "\n",
    "# Function to initialize K-Means with random centers\n",
    "def random_choice_init(data, k):\n",
    "    # Select relevant columns and take k random samples\n",
    "    three_dim_array = np.array(data.select(array([c for c in data.columns if c not in ignored_cols])).rdd.takeSample(False, k))\n",
    "    final = three_dim_array.reshape(three_dim_array.shape[0], -1)\n",
    "    return final\n",
    "\n",
    "# Main K-Means function\n",
    "def kmeans(data, centers, max_iter=100, perc=0.999999, return_cost=False):\n",
    "    count = 0\n",
    "\n",
    "    # Get column names\n",
    "    cols = data.columns\n",
    "\n",
    "    # Initialize cost history \n",
    "    cost = [float(\"inf\")]\n",
    "\n",
    "    # Main K-Means loop\n",
    "    while count <= max_iter:\n",
    "        print(\"Iteration\", count)\n",
    "\n",
    "        # Define a UDF to find the index of the nearest center for each row\n",
    "        argmin_distance_udf = udf(lambda row: (argmin([euclidean_distance(row, c) for c in centers])), IntegerType())\n",
    "\n",
    "        # Calculate the \"centr\" column based on the nearest center\n",
    "        data = data.withColumn(\"centr\", argmin_distance_udf(array([c for c in cols if c not in ignored_cols])))\n",
    "\n",
    "        # Update the centers based on the assigned clusters\n",
    "        \n",
    "        centers = np.array(data.groupBy(\"centr\").mean().select(*[col(\"avg(\"+c+\")\") for c in data.columns if c not in ignored_cols+['avg(centr)']]).collect())\n",
    "\n",
    "        # Calculate the cost value per element, then sum\n",
    "        get_cost = udf(lambda row: str(min([euclidean_distance(row, cen)**2 for cen in centers])))\n",
    "\n",
    "        data = data.withColumn(\"cost\", get_cost(array([c for c in cols if c not in ignored_cols])).cast(\"double\"))\n",
    "\n",
    "        # Calculate the new cost and add it to the cost history\n",
    "        finalcost = data.select(\"cost\").groupBy().sum().collect()[0][0]\n",
    "        cost.append(finalcost)\n",
    "        \n",
    "        print(\"Cost function values\", cost[count])\n",
    "\n",
    "        # Increment the iteration count\n",
    "        count += 1\n",
    "\n",
    "        # Break if the cost change ratio is below the specified threshold\n",
    "        if cost[-1] / cost[-2] > perc:\n",
    "            break\n",
    "\n",
    "    # Return the result based on whether cost history is requested\n",
    "    if return_cost:\n",
    "        return data, centers, cost[1:]\n",
    "    else:\n",
    "        return data, centers"
   ]
  },
  {
   "cell_type": "code",
   "execution_count": 14,
   "id": "70ff55e7",
   "metadata": {},
   "outputs": [],
   "source": [
    "def avg_cost_time_results(k, data, partitions, iterations, func, L=None):\n",
    "    \n",
    "    total_cost_history = np.zeros(len(partitions))\n",
    "    total_time = np.zeros(len(partitions))\n",
    "    \n",
    "    for part in partitions:\n",
    "        part_cost = list()\n",
    "        part_time = list()\n",
    "        for i in range(iterations):\n",
    "            start_time = time.time()\n",
    "            data = data.repartition(int(part))\n",
    "            data = data.persist()\n",
    "            r_centr = func(data, k)\n",
    "            result, final_centroids, cost_history = kmeans(data, r_centr, max_iter=15, return_cost=True)\n",
    "            part_cost.append(np.array(cost_history))\n",
    "            elapsed_time = time.time() - start_time\n",
    "            part_time.append(elapsed_time)\n",
    "            \n",
    "\n",
    "    return part_cost, part_time\n"
   ]
  },
  {
   "cell_type": "code",
   "execution_count": 20,
   "id": "1abe0d18",
   "metadata": {
    "scrolled": true
   },
   "outputs": [
    {
     "name": "stderr",
     "output_type": "stream",
     "text": [
      "                                                                                \r"
     ]
    },
    {
     "name": "stdout",
     "output_type": "stream",
     "text": [
      "Iteration 0\n"
     ]
    },
    {
     "name": "stderr",
     "output_type": "stream",
     "text": [
      "                                                                                \r"
     ]
    },
    {
     "name": "stdout",
     "output_type": "stream",
     "text": [
      "Cost function values inf\n",
      "Iteration 1\n"
     ]
    },
    {
     "name": "stderr",
     "output_type": "stream",
     "text": [
      "                                                                                \r"
     ]
    },
    {
     "name": "stdout",
     "output_type": "stream",
     "text": [
      "Cost function values 8956989.601979231\n",
      "Iteration 2\n"
     ]
    },
    {
     "name": "stderr",
     "output_type": "stream",
     "text": [
      "                                                                                \r"
     ]
    },
    {
     "name": "stdout",
     "output_type": "stream",
     "text": [
      "Cost function values 8904482.37037084\n",
      "Iteration 3\n"
     ]
    },
    {
     "name": "stderr",
     "output_type": "stream",
     "text": [
      "                                                                                \r"
     ]
    },
    {
     "name": "stdout",
     "output_type": "stream",
     "text": [
      "Cost function values 8741533.989231333\n",
      "Iteration 4\n"
     ]
    },
    {
     "name": "stderr",
     "output_type": "stream",
     "text": [
      "                                                                                \r"
     ]
    },
    {
     "name": "stdout",
     "output_type": "stream",
     "text": [
      "Cost function values 8369312.1582704615\n",
      "Iteration 5\n"
     ]
    },
    {
     "name": "stderr",
     "output_type": "stream",
     "text": [
      "                                                                                \r"
     ]
    },
    {
     "name": "stdout",
     "output_type": "stream",
     "text": [
      "Cost function values 7863975.837079446\n",
      "Iteration 6\n"
     ]
    },
    {
     "name": "stderr",
     "output_type": "stream",
     "text": [
      "                                                                                \r"
     ]
    },
    {
     "name": "stdout",
     "output_type": "stream",
     "text": [
      "Cost function values 7773424.987593739\n",
      "Iteration 7\n"
     ]
    },
    {
     "name": "stderr",
     "output_type": "stream",
     "text": [
      "                                                                                \r"
     ]
    },
    {
     "name": "stdout",
     "output_type": "stream",
     "text": [
      "Cost function values 7717491.58630231\n",
      "Iteration 8\n"
     ]
    },
    {
     "name": "stderr",
     "output_type": "stream",
     "text": [
      "                                                                                \r"
     ]
    },
    {
     "name": "stdout",
     "output_type": "stream",
     "text": [
      "Cost function values 7701608.582284784\n",
      "Iteration 9\n"
     ]
    },
    {
     "name": "stderr",
     "output_type": "stream",
     "text": [
      "                                                                                \r"
     ]
    },
    {
     "name": "stdout",
     "output_type": "stream",
     "text": [
      "Cost function values 7688567.047513449\n",
      "Iteration 10\n"
     ]
    },
    {
     "name": "stderr",
     "output_type": "stream",
     "text": [
      "                                                                                \r"
     ]
    },
    {
     "name": "stdout",
     "output_type": "stream",
     "text": [
      "Cost function values 7678105.640332552\n",
      "Iteration 11\n"
     ]
    },
    {
     "name": "stderr",
     "output_type": "stream",
     "text": [
      "                                                                                \r"
     ]
    },
    {
     "name": "stdout",
     "output_type": "stream",
     "text": [
      "Cost function values 7676828.976348989\n",
      "Iteration 12\n"
     ]
    },
    {
     "name": "stderr",
     "output_type": "stream",
     "text": [
      "                                                                                \r"
     ]
    },
    {
     "name": "stdout",
     "output_type": "stream",
     "text": [
      "Cost function values 7675950.080892273\n",
      "Iteration 13\n"
     ]
    },
    {
     "name": "stderr",
     "output_type": "stream",
     "text": [
      "                                                                                \r"
     ]
    },
    {
     "name": "stdout",
     "output_type": "stream",
     "text": [
      "Cost function values 7674136.820340304\n",
      "Iteration 14\n"
     ]
    },
    {
     "name": "stderr",
     "output_type": "stream",
     "text": [
      "                                                                                \r"
     ]
    },
    {
     "name": "stdout",
     "output_type": "stream",
     "text": [
      "Cost function values 7661905.6902870545\n",
      "Iteration 15\n"
     ]
    },
    {
     "name": "stderr",
     "output_type": "stream",
     "text": [
      "                                                                                \r"
     ]
    },
    {
     "name": "stdout",
     "output_type": "stream",
     "text": [
      "Cost function values 7573860.35516868\n"
     ]
    },
    {
     "name": "stderr",
     "output_type": "stream",
     "text": [
      "                                                                                \r"
     ]
    },
    {
     "name": "stdout",
     "output_type": "stream",
     "text": [
      "Iteration 0\n"
     ]
    },
    {
     "name": "stderr",
     "output_type": "stream",
     "text": [
      "                                                                                \r"
     ]
    },
    {
     "name": "stdout",
     "output_type": "stream",
     "text": [
      "Cost function values inf\n",
      "Iteration 1\n"
     ]
    },
    {
     "name": "stderr",
     "output_type": "stream",
     "text": [
      "                                                                                \r"
     ]
    },
    {
     "name": "stdout",
     "output_type": "stream",
     "text": [
      "Cost function values 9563243.519742493\n",
      "Iteration 2\n"
     ]
    },
    {
     "name": "stderr",
     "output_type": "stream",
     "text": [
      "                                                                                \r"
     ]
    },
    {
     "name": "stdout",
     "output_type": "stream",
     "text": [
      "Cost function values 8996214.250479668\n",
      "Iteration 3\n"
     ]
    },
    {
     "name": "stderr",
     "output_type": "stream",
     "text": [
      "                                                                                \r"
     ]
    },
    {
     "name": "stdout",
     "output_type": "stream",
     "text": [
      "Cost function values 8617311.054963231\n",
      "Iteration 4\n"
     ]
    },
    {
     "name": "stderr",
     "output_type": "stream",
     "text": [
      "                                                                                \r"
     ]
    },
    {
     "name": "stdout",
     "output_type": "stream",
     "text": [
      "Cost function values 8568004.93780889\n",
      "Iteration 5\n"
     ]
    },
    {
     "name": "stderr",
     "output_type": "stream",
     "text": [
      "                                                                                \r"
     ]
    },
    {
     "name": "stdout",
     "output_type": "stream",
     "text": [
      "Cost function values 8553443.065381907\n",
      "Iteration 6\n"
     ]
    },
    {
     "name": "stderr",
     "output_type": "stream",
     "text": [
      "                                                                                \r"
     ]
    },
    {
     "name": "stdout",
     "output_type": "stream",
     "text": [
      "Cost function values 8525965.24185946\n",
      "Iteration 7\n"
     ]
    },
    {
     "name": "stderr",
     "output_type": "stream",
     "text": [
      "                                                                                \r"
     ]
    },
    {
     "name": "stdout",
     "output_type": "stream",
     "text": [
      "Cost function values 8444168.006371953\n",
      "Iteration 8\n"
     ]
    },
    {
     "name": "stderr",
     "output_type": "stream",
     "text": [
      "                                                                                \r"
     ]
    },
    {
     "name": "stdout",
     "output_type": "stream",
     "text": [
      "Cost function values 8345357.289155557\n",
      "Iteration 9\n"
     ]
    },
    {
     "name": "stderr",
     "output_type": "stream",
     "text": [
      "                                                                                \r"
     ]
    },
    {
     "name": "stdout",
     "output_type": "stream",
     "text": [
      "Cost function values 8273515.78803671\n",
      "Iteration 10\n"
     ]
    },
    {
     "name": "stderr",
     "output_type": "stream",
     "text": [
      "                                                                                \r"
     ]
    },
    {
     "name": "stdout",
     "output_type": "stream",
     "text": [
      "Cost function values 8205782.97167193\n",
      "Iteration 11\n"
     ]
    },
    {
     "name": "stderr",
     "output_type": "stream",
     "text": [
      "                                                                                \r"
     ]
    },
    {
     "name": "stdout",
     "output_type": "stream",
     "text": [
      "Cost function values 8195205.125978409\n",
      "Iteration 12\n"
     ]
    },
    {
     "name": "stderr",
     "output_type": "stream",
     "text": [
      "                                                                                \r"
     ]
    },
    {
     "name": "stdout",
     "output_type": "stream",
     "text": [
      "Cost function values 8193326.7222835515\n",
      "Iteration 13\n"
     ]
    },
    {
     "name": "stderr",
     "output_type": "stream",
     "text": [
      "                                                                                \r"
     ]
    },
    {
     "name": "stdout",
     "output_type": "stream",
     "text": [
      "Cost function values 8191924.440072211\n",
      "Iteration 14\n"
     ]
    },
    {
     "name": "stderr",
     "output_type": "stream",
     "text": [
      "                                                                                \r"
     ]
    },
    {
     "name": "stdout",
     "output_type": "stream",
     "text": [
      "Cost function values 8177063.380050134\n",
      "Iteration 15\n"
     ]
    },
    {
     "name": "stderr",
     "output_type": "stream",
     "text": [
      "                                                                                \r"
     ]
    },
    {
     "name": "stdout",
     "output_type": "stream",
     "text": [
      "Cost function values 8045592.307430963\n"
     ]
    },
    {
     "name": "stderr",
     "output_type": "stream",
     "text": [
      "                                                                                \r"
     ]
    },
    {
     "name": "stdout",
     "output_type": "stream",
     "text": [
      "Iteration 0\n"
     ]
    },
    {
     "name": "stderr",
     "output_type": "stream",
     "text": [
      "                                                                                \r"
     ]
    },
    {
     "name": "stdout",
     "output_type": "stream",
     "text": [
      "Cost function values inf\n",
      "Iteration 1\n"
     ]
    },
    {
     "name": "stderr",
     "output_type": "stream",
     "text": [
      "                                                                                \r"
     ]
    },
    {
     "name": "stdout",
     "output_type": "stream",
     "text": [
      "Cost function values 9111202.411372723\n",
      "Iteration 2\n"
     ]
    },
    {
     "name": "stderr",
     "output_type": "stream",
     "text": [
      "                                                                                \r"
     ]
    },
    {
     "name": "stdout",
     "output_type": "stream",
     "text": [
      "Cost function values 8204921.154740699\n",
      "Iteration 3\n"
     ]
    },
    {
     "name": "stderr",
     "output_type": "stream",
     "text": [
      "                                                                                \r"
     ]
    },
    {
     "name": "stdout",
     "output_type": "stream",
     "text": [
      "Cost function values 7775696.281781221\n",
      "Iteration 4\n"
     ]
    },
    {
     "name": "stderr",
     "output_type": "stream",
     "text": [
      "                                                                                \r"
     ]
    },
    {
     "name": "stdout",
     "output_type": "stream",
     "text": [
      "Cost function values 7767470.175999577\n",
      "Iteration 5\n"
     ]
    },
    {
     "name": "stderr",
     "output_type": "stream",
     "text": [
      "                                                                                \r"
     ]
    },
    {
     "name": "stdout",
     "output_type": "stream",
     "text": [
      "Cost function values 7765241.621751914\n",
      "Iteration 6\n"
     ]
    },
    {
     "name": "stderr",
     "output_type": "stream",
     "text": [
      "                                                                                \r"
     ]
    },
    {
     "name": "stdout",
     "output_type": "stream",
     "text": [
      "Cost function values 7699411.5570903905\n",
      "Iteration 7\n"
     ]
    },
    {
     "name": "stderr",
     "output_type": "stream",
     "text": [
      "                                                                                \r"
     ]
    },
    {
     "name": "stdout",
     "output_type": "stream",
     "text": [
      "Cost function values 7644711.069304806\n",
      "Iteration 8\n"
     ]
    },
    {
     "name": "stderr",
     "output_type": "stream",
     "text": [
      "                                                                                \r"
     ]
    },
    {
     "name": "stdout",
     "output_type": "stream",
     "text": [
      "Cost function values 7641041.469664875\n",
      "Iteration 9\n"
     ]
    },
    {
     "name": "stderr",
     "output_type": "stream",
     "text": [
      "                                                                                \r"
     ]
    },
    {
     "name": "stdout",
     "output_type": "stream",
     "text": [
      "Cost function values 7640407.148759229\n",
      "Iteration 10\n"
     ]
    },
    {
     "name": "stderr",
     "output_type": "stream",
     "text": [
      "                                                                                \r"
     ]
    },
    {
     "name": "stdout",
     "output_type": "stream",
     "text": [
      "Cost function values 7640310.23842993\n",
      "Iteration 11\n"
     ]
    },
    {
     "name": "stderr",
     "output_type": "stream",
     "text": [
      "                                                                                \r"
     ]
    },
    {
     "name": "stdout",
     "output_type": "stream",
     "text": [
      "Cost function values 7640294.516146548\n"
     ]
    },
    {
     "name": "stderr",
     "output_type": "stream",
     "text": [
      "                                                                                \r"
     ]
    },
    {
     "name": "stdout",
     "output_type": "stream",
     "text": [
      "Iteration 0\n"
     ]
    },
    {
     "name": "stderr",
     "output_type": "stream",
     "text": [
      "                                                                                \r"
     ]
    },
    {
     "name": "stdout",
     "output_type": "stream",
     "text": [
      "Cost function values inf\n",
      "Iteration 1\n"
     ]
    },
    {
     "name": "stderr",
     "output_type": "stream",
     "text": [
      "                                                                                \r"
     ]
    },
    {
     "name": "stdout",
     "output_type": "stream",
     "text": [
      "Cost function values 9475870.508118251\n",
      "Iteration 2\n"
     ]
    },
    {
     "name": "stderr",
     "output_type": "stream",
     "text": [
      "                                                                                \r"
     ]
    },
    {
     "name": "stdout",
     "output_type": "stream",
     "text": [
      "Cost function values 9204758.924747562\n",
      "Iteration 3\n"
     ]
    },
    {
     "name": "stderr",
     "output_type": "stream",
     "text": [
      "                                                                                \r"
     ]
    },
    {
     "name": "stdout",
     "output_type": "stream",
     "text": [
      "Cost function values 8987566.382945638\n",
      "Iteration 4\n"
     ]
    },
    {
     "name": "stderr",
     "output_type": "stream",
     "text": [
      "                                                                                \r"
     ]
    },
    {
     "name": "stdout",
     "output_type": "stream",
     "text": [
      "Cost function values 8904379.978657655\n",
      "Iteration 5\n"
     ]
    },
    {
     "name": "stderr",
     "output_type": "stream",
     "text": [
      "                                                                                \r"
     ]
    },
    {
     "name": "stdout",
     "output_type": "stream",
     "text": [
      "Cost function values 8897151.654044995\n",
      "Iteration 6\n"
     ]
    },
    {
     "name": "stderr",
     "output_type": "stream",
     "text": [
      "                                                                                \r"
     ]
    },
    {
     "name": "stdout",
     "output_type": "stream",
     "text": [
      "Cost function values 8896819.255504409\n",
      "Iteration 7\n"
     ]
    },
    {
     "name": "stderr",
     "output_type": "stream",
     "text": [
      "                                                                                \r"
     ]
    },
    {
     "name": "stdout",
     "output_type": "stream",
     "text": [
      "Cost function values 8895000.923754018\n",
      "Iteration 8\n"
     ]
    },
    {
     "name": "stderr",
     "output_type": "stream",
     "text": [
      "                                                                                \r"
     ]
    },
    {
     "name": "stdout",
     "output_type": "stream",
     "text": [
      "Cost function values 8893157.284565883\n",
      "Iteration 9\n"
     ]
    },
    {
     "name": "stderr",
     "output_type": "stream",
     "text": [
      "                                                                                \r"
     ]
    },
    {
     "name": "stdout",
     "output_type": "stream",
     "text": [
      "Cost function values 8887329.0494671\n",
      "Iteration 10\n"
     ]
    },
    {
     "name": "stderr",
     "output_type": "stream",
     "text": [
      "                                                                                \r"
     ]
    },
    {
     "name": "stdout",
     "output_type": "stream",
     "text": [
      "Cost function values 8881286.474310867\n",
      "Iteration 11\n"
     ]
    },
    {
     "name": "stderr",
     "output_type": "stream",
     "text": [
      "                                                                                \r"
     ]
    },
    {
     "name": "stdout",
     "output_type": "stream",
     "text": [
      "Cost function values 8819154.325296499\n",
      "Iteration 12\n"
     ]
    },
    {
     "name": "stderr",
     "output_type": "stream",
     "text": [
      "                                                                                \r"
     ]
    },
    {
     "name": "stdout",
     "output_type": "stream",
     "text": [
      "Cost function values 8418507.323541183\n",
      "Iteration 13\n"
     ]
    },
    {
     "name": "stderr",
     "output_type": "stream",
     "text": [
      "                                                                                \r"
     ]
    },
    {
     "name": "stdout",
     "output_type": "stream",
     "text": [
      "Cost function values 8355174.990636323\n",
      "Iteration 14\n"
     ]
    },
    {
     "name": "stderr",
     "output_type": "stream",
     "text": [
      "                                                                                \r"
     ]
    },
    {
     "name": "stdout",
     "output_type": "stream",
     "text": [
      "Cost function values 8351539.250434652\n",
      "Iteration 15\n"
     ]
    },
    {
     "name": "stderr",
     "output_type": "stream",
     "text": [
      "                                                                                \r"
     ]
    },
    {
     "name": "stdout",
     "output_type": "stream",
     "text": [
      "Cost function values 8350955.663757862\n"
     ]
    },
    {
     "name": "stderr",
     "output_type": "stream",
     "text": [
      "                                                                                \r"
     ]
    },
    {
     "name": "stdout",
     "output_type": "stream",
     "text": [
      "Iteration 0\n"
     ]
    },
    {
     "name": "stderr",
     "output_type": "stream",
     "text": [
      "                                                                                \r"
     ]
    },
    {
     "name": "stdout",
     "output_type": "stream",
     "text": [
      "Cost function values inf\n",
      "Iteration 1\n"
     ]
    },
    {
     "name": "stderr",
     "output_type": "stream",
     "text": [
      "                                                                                \r"
     ]
    },
    {
     "name": "stdout",
     "output_type": "stream",
     "text": [
      "Cost function values 9514193.003628926\n",
      "Iteration 2\n"
     ]
    },
    {
     "name": "stderr",
     "output_type": "stream",
     "text": [
      "                                                                                \r"
     ]
    },
    {
     "name": "stdout",
     "output_type": "stream",
     "text": [
      "Cost function values 9201954.581230685\n",
      "Iteration 3\n"
     ]
    },
    {
     "name": "stderr",
     "output_type": "stream",
     "text": [
      "                                                                                \r"
     ]
    },
    {
     "name": "stdout",
     "output_type": "stream",
     "text": [
      "Cost function values 9118455.606488515\n",
      "Iteration 4\n"
     ]
    },
    {
     "name": "stderr",
     "output_type": "stream",
     "text": [
      "                                                                                \r"
     ]
    },
    {
     "name": "stdout",
     "output_type": "stream",
     "text": [
      "Cost function values 9061629.3041859\n",
      "Iteration 5\n"
     ]
    },
    {
     "name": "stderr",
     "output_type": "stream",
     "text": [
      "                                                                                \r"
     ]
    },
    {
     "name": "stdout",
     "output_type": "stream",
     "text": [
      "Cost function values 8962997.120824702\n",
      "Iteration 6\n"
     ]
    },
    {
     "name": "stderr",
     "output_type": "stream",
     "text": [
      "                                                                                \r"
     ]
    },
    {
     "name": "stdout",
     "output_type": "stream",
     "text": [
      "Cost function values 8694333.959504895\n",
      "Iteration 7\n"
     ]
    },
    {
     "name": "stderr",
     "output_type": "stream",
     "text": [
      "                                                                                \r"
     ]
    },
    {
     "name": "stdout",
     "output_type": "stream",
     "text": [
      "Cost function values 8426999.118036455\n",
      "Iteration 8\n"
     ]
    },
    {
     "name": "stderr",
     "output_type": "stream",
     "text": [
      "                                                                                \r"
     ]
    },
    {
     "name": "stdout",
     "output_type": "stream",
     "text": [
      "Cost function values 8120365.694959196\n",
      "Iteration 9\n"
     ]
    },
    {
     "name": "stderr",
     "output_type": "stream",
     "text": [
      "                                                                                \r"
     ]
    },
    {
     "name": "stdout",
     "output_type": "stream",
     "text": [
      "Cost function values 8023970.34040447\n",
      "Iteration 10\n"
     ]
    },
    {
     "name": "stderr",
     "output_type": "stream",
     "text": [
      "                                                                                \r"
     ]
    },
    {
     "name": "stdout",
     "output_type": "stream",
     "text": [
      "Cost function values 7915238.359605302\n",
      "Iteration 11\n"
     ]
    },
    {
     "name": "stderr",
     "output_type": "stream",
     "text": [
      "                                                                                \r"
     ]
    },
    {
     "name": "stdout",
     "output_type": "stream",
     "text": [
      "Cost function values 7436085.0626894\n",
      "Iteration 12\n"
     ]
    },
    {
     "name": "stderr",
     "output_type": "stream",
     "text": [
      "                                                                                \r"
     ]
    },
    {
     "name": "stdout",
     "output_type": "stream",
     "text": [
      "Cost function values 7361181.485223055\n",
      "Iteration 13\n"
     ]
    },
    {
     "name": "stderr",
     "output_type": "stream",
     "text": [
      "                                                                                \r"
     ]
    },
    {
     "name": "stdout",
     "output_type": "stream",
     "text": [
      "Cost function values 7298307.17761414\n",
      "Iteration 14\n"
     ]
    },
    {
     "name": "stderr",
     "output_type": "stream",
     "text": [
      "                                                                                \r"
     ]
    },
    {
     "name": "stdout",
     "output_type": "stream",
     "text": [
      "Cost function values 7289855.846724051\n",
      "Iteration 15\n"
     ]
    },
    {
     "name": "stderr",
     "output_type": "stream",
     "text": [
      "[Stage 1400:===========================================>          (13 + 3) / 16]\r"
     ]
    },
    {
     "name": "stdout",
     "output_type": "stream",
     "text": [
      "Cost function values 7289009.739898003\n"
     ]
    },
    {
     "name": "stderr",
     "output_type": "stream",
     "text": [
      "\r",
      "                                                                                \r"
     ]
    }
   ],
   "source": [
    "ncores = 3\n",
    "spark, sc = initiate_session(ncores=ncores, spark=spark)\n",
    "\n",
    "data = spark.createDataFrame(pd.read_csv(\"./data.csv\"))\n",
    "k = 23 # length of unique labels\n",
    "partitions = np.array([16])\n",
    "iterations = 5\n",
    "\n",
    "\n",
    "part_cost, part_time = avg_cost_time_results(k=k, data=data, partitions=partitions, iterations=iterations,\n",
    "                                                   func=random_choice_init)"
   ]
  },
  {
   "cell_type": "code",
   "execution_count": 31,
   "id": "df8257c4",
   "metadata": {},
   "outputs": [],
   "source": [
    "def pad_arrays(arrays):\n",
    "    max_length = max(len(arr) for arr in arrays)\n",
    "    padded_arrays = []\n",
    "    for arr in arrays:\n",
    "        pad_length = max_length - len(arr)\n",
    "        padded_arr = np.pad(arr, (0, pad_length), mode='constant')\n",
    "        padded_arrays.append(padded_arr)\n",
    "    return padded_arrays"
   ]
  },
  {
   "cell_type": "code",
   "execution_count": 59,
   "id": "69139c79",
   "metadata": {},
   "outputs": [],
   "source": [
    "part_cost = pad_arrays(part_cost)\n",
    "\n",
    "part_time = np.array(part_time)\n",
    "part_cost = np.array(part_cost)\n",
    "\n",
    "# Mask padded values\n",
    "mask = (part_cost != 0)\n",
    "\n",
    "# Calculate average and standard deviation over columns considering non-padded elements only\n",
    "avg_cost = np.sum(part_cost * mask, axis=0) / np.sum(mask, axis=0)\n",
    "std_cost = np.sqrt(np.sum(((part_cost - avg_cost) ** 2) * mask, axis=0) / np.sum(mask, axis=0))\n",
    "\n",
    "avg_time = np.mean(part_time)\n",
    "std_time = np.std(part_time)\n"
   ]
  },
  {
   "cell_type": "markdown",
   "id": "95b38b2c",
   "metadata": {},
   "source": [
    "# BEST PARALLEL KMEANS"
   ]
  },
  {
   "cell_type": "code",
   "execution_count": 24,
   "id": "db8e9703",
   "metadata": {},
   "outputs": [],
   "source": [
    "    \n",
    "def kmeans_Lloyd(X, centroids, k, max_iters=100, tol=1e-7):\n",
    "    \n",
    "    \"\"\" Run the sequential LLoyd algorithm given data X, centroids and k number of clusters.\"\"\"\n",
    "\n",
    "    costs = []\n",
    "\n",
    "    for _ in range(max_iters):\n",
    "        # Step 1: Assign each data point to the nearest centroid\n",
    "        distances = euclidean_distances(X, centroids)\n",
    "        labels = np.argmin(distances, axis=1)\n",
    "        \n",
    "        # Step 2: Update centroids based on the assigned points\n",
    "        new_centroids = np.array([X[labels == i].mean(axis=0) for i in range(k)])\n",
    "        \n",
    "        # Calculate the cost function (sum of squared distances to centroids)\n",
    "        cost = np.sum(np.min(distances, axis=1))\n",
    "        costs.append(cost)\n",
    "\n",
    "        \n",
    "        # Check for convergence\n",
    "        if np.linalg.norm(new_centroids - centroids) <= tol:\n",
    "            break\n",
    "        \n",
    "        centroids = new_centroids\n",
    "    \n",
    "    return centroids, labels, costs\n",
    "\n"
   ]
  },
  {
   "cell_type": "code",
   "execution_count": 25,
   "id": "db5117b0",
   "metadata": {},
   "outputs": [],
   "source": [
    "def kmeans_Lloyd(X, centroids, k, max_iters=100, tol=1e-7):\n",
    "    \n",
    "    \"\"\" Run the sequential LLoyd algorithm given data X, centroids and k number of clusters.\"\"\"\n",
    "\n",
    "    costs = []\n",
    "\n",
    "    for _ in range(max_iters):\n",
    "        # Step 1: Assign each data point to the nearest centroid\n",
    "        distances = euclidean_distances(X, centroids)\n",
    "        labels = np.argmin(distances, axis=1)\n",
    "        \n",
    "        # Step 2: Update centroids based on the assigned points\n",
    "        new_centroids = np.array([X[labels == i].mean(axis=0) for i in range(k)])\n",
    "        \n",
    "        # Calculate the cost function (sum of squared distances to centroids)\n",
    "        cost = np.sum(np.min(distances, axis=1))\n",
    "        costs.append(cost)\n",
    "\n",
    "        \n",
    "        # Check for convergence\n",
    "        if np.linalg.norm(new_centroids - centroids) <= tol:\n",
    "            break\n",
    "        \n",
    "        centroids = new_centroids\n",
    "    \n",
    "    return centroids, labels, costs\n",
    "\n",
    "\n",
    "\n",
    "def kmeans_ll(data, k, L=1): \n",
    "    \n",
    "    \"\"\" || kmeans initialization of k centroids elements. X is the data, L the oversampling factor.\"\"\"\n",
    "    \n",
    "    \n",
    "    cols = data.columns\n",
    "    n_samples, n_features = data.count(), len(data.columns)\n",
    "    centroids = np.zeros((1, n_features))\n",
    "    \n",
    "    # Step 1: Choose one random point as the first centroid\n",
    "    three_dim_array = np.array(data.select(array([c for c in data.columns if c not in ignored_cols])).rdd.takeSample(False, 1))\n",
    "    centroids[0] = three_dim_array.reshape(three_dim_array.shape[0], -1)\n",
    "    \n",
    "    # Define a UDF to find psi\n",
    "    # Calculate the distance using the UDF and collect the result\n",
    "    distance_udf = udf(lambda row: ((float(euclidean_distance(row, centroids[0])))), DoubleType())\n",
    "\n",
    "    distance = data.withColumn(\"distance\", distance_udf(array([c for c in cols if c not in ignored_cols])))\n",
    "\n",
    "    # Sum the distances\n",
    "    psi = distance.select(spark_sum(col(\"distance\"))).collect()[0][0]\n",
    "    #print(psi)\n",
    "\n",
    "    \n",
    "\n",
    "    # Calculate psi\n",
    "    #psi = spark_sum(distance_udf(array([c for c in cols if c not in ignored_cols])).collect())\n",
    "\n",
    "    \n",
    "    for j in range(1, int(np.log(psi))):\n",
    "\n",
    "        # Step 2: Compute distances from each point to the nearest centroid and define probabilities\n",
    "        min_distance_udf = udf(lambda row: (float(min([euclidean_distance(row, c) for c in centroids]))), DoubleType())\n",
    "        data = data.withColumn(\"probs\", min_distance_udf(array([c for c in cols if c not in ignored_cols])))\n",
    "        # Calculate the sum of the \"probs\" column\n",
    "        total_sum = data.select(spark_sum(col(\"probs\"))).collect()[0][0]\n",
    "        # Normalize the \"probs\" column by dividing each row's value by the total sum\n",
    "        data = data.withColumn(\"probs\", col(\"probs\")*L / total_sum)\n",
    "        \n",
    "        # Sample and add centroids\n",
    "        # Generate a random column for filtering\n",
    "        data = data.withColumn(\"rand_col\", rand())\n",
    "\n",
    "        # Filter and select the rows where 'rand_col' is less than 'probs' to get n_samples\n",
    "        selected_data = data.filter(col(\"rand_col\") < col(\"probs\")).select([col(c) for c in data.columns if c not in ['rand_col','centr','cost','probs']]).collect()\n",
    "\n",
    "        #print(\"centroids\", centroids)\n",
    "        #print(\"selected_data\", selected_data)\n",
    "        if selected_data != []:\n",
    "            centroids = np.concatenate((centroids, selected_data), axis=0)\n",
    "                \n",
    "    if len(centroids) > k:\n",
    "                \n",
    "        #A SORT OF K MEANS ++ INITIALIAZATION FOR Lloyd ITERATIONS ON CENTROIDS       \n",
    "        cc = np.copy(centroids)\n",
    "        p_centroids = np.zeros((k, n_features))\n",
    "\n",
    "        for j in range(0, k):\n",
    "            \n",
    "            # Define weights\n",
    "            w = np.zeros(len(cc))\n",
    "\n",
    "            # Create new column with the index of the nearest center for each row\n",
    "            argmin_distance_udf = udf(lambda row: (argmin([euclidean_distance(row, c) for c in cc])), IntegerType())\n",
    "            data = data.withColumn(\"index\", argmin_distance_udf(array([c for c in cols if c not in ignored_cols])))\n",
    "\n",
    "            #w = np.array(data.groupBy(\"index\").count().collect())\n",
    "            # Group by 'centroid_inddex' and count the occurrences, renaming the count column\n",
    "            centroid_counts = data.groupBy(\"index\").count()\n",
    "            # Order by ascending index value\n",
    "            centroid_counts = centroid_counts.sort(\"index\")\n",
    "            # Calculate the sum of counts\n",
    "            total_count = centroid_counts.select(spark_sum(col(\"count\"))).collect()[0][0]\n",
    "            # Normalize the \"probs\" column by dividing each row's value by the total sum\n",
    "            renormalized_counts = centroid_counts.withColumn(\"count\", col(\"count\")/ total_count).select(col(\"count\")).collect()\n",
    "            probs = np.array(renormalized_counts).flatten()\n",
    "\n",
    "            next_centroid_idx = np.random.choice(len(probs), p=probs)\n",
    "            p_centroids[j] = cc[next_centroid_idx]\n",
    "            cc = np.delete(cc, next_centroid_idx, axis=0)\n",
    "\n",
    "        #print(len(centroids), len(p_centroids))\n",
    "        # K MEANS Lloyd ITERATIONS ON CENTROIDS\n",
    "\n",
    "        final_centroids, __, _ = kmeans_Lloyd(centroids, p_centroids, k)\n",
    "    else:\n",
    "        final_centroids = centroids\n",
    "        \n",
    "    return final_centroids\n"
   ]
  },
  {
   "cell_type": "code",
   "execution_count": 26,
   "id": "31df6a40",
   "metadata": {},
   "outputs": [],
   "source": [
    "ncores = 3\n",
    "# 4 cores\n",
    "spark, sc = initiate_session(ncores=ncores, spark=spark)"
   ]
  },
  {
   "cell_type": "code",
   "execution_count": 28,
   "id": "60dcccb8",
   "metadata": {
    "scrolled": true
   },
   "outputs": [
    {
     "name": "stderr",
     "output_type": "stream",
     "text": [
      "                                                                                \r"
     ]
    },
    {
     "name": "stdout",
     "output_type": "stream",
     "text": [
      "Iteration 0\n"
     ]
    },
    {
     "name": "stderr",
     "output_type": "stream",
     "text": [
      "                                                                                \r"
     ]
    },
    {
     "name": "stdout",
     "output_type": "stream",
     "text": [
      "Cost function values inf\n",
      "Iteration 1\n"
     ]
    },
    {
     "name": "stderr",
     "output_type": "stream",
     "text": [
      "                                                                                \r"
     ]
    },
    {
     "name": "stdout",
     "output_type": "stream",
     "text": [
      "Cost function values 6691059.31377656\n",
      "Iteration 2\n"
     ]
    },
    {
     "name": "stderr",
     "output_type": "stream",
     "text": [
      "                                                                                \r"
     ]
    },
    {
     "name": "stdout",
     "output_type": "stream",
     "text": [
      "Cost function values 6446053.655031749\n",
      "Iteration 3\n"
     ]
    },
    {
     "name": "stderr",
     "output_type": "stream",
     "text": [
      "                                                                                \r"
     ]
    },
    {
     "name": "stdout",
     "output_type": "stream",
     "text": [
      "Cost function values 6196412.060850556\n",
      "Iteration 4\n"
     ]
    },
    {
     "name": "stderr",
     "output_type": "stream",
     "text": [
      "                                                                                \r"
     ]
    },
    {
     "name": "stdout",
     "output_type": "stream",
     "text": [
      "Cost function values 6145320.231456628\n",
      "Iteration 5\n"
     ]
    },
    {
     "name": "stderr",
     "output_type": "stream",
     "text": [
      "                                                                                \r"
     ]
    },
    {
     "name": "stdout",
     "output_type": "stream",
     "text": [
      "Cost function values 6129917.182387537\n",
      "Iteration 6\n"
     ]
    },
    {
     "name": "stderr",
     "output_type": "stream",
     "text": [
      "                                                                                \r"
     ]
    },
    {
     "name": "stdout",
     "output_type": "stream",
     "text": [
      "Cost function values 6104366.078180213\n",
      "Iteration 7\n"
     ]
    },
    {
     "name": "stderr",
     "output_type": "stream",
     "text": [
      "                                                                                \r"
     ]
    },
    {
     "name": "stdout",
     "output_type": "stream",
     "text": [
      "Cost function values 6053710.209627607\n",
      "Iteration 8\n"
     ]
    },
    {
     "name": "stderr",
     "output_type": "stream",
     "text": [
      "                                                                                \r"
     ]
    },
    {
     "name": "stdout",
     "output_type": "stream",
     "text": [
      "Cost function values 6051487.193159205\n",
      "Iteration 9\n"
     ]
    },
    {
     "name": "stderr",
     "output_type": "stream",
     "text": [
      "                                                                                \r"
     ]
    },
    {
     "name": "stdout",
     "output_type": "stream",
     "text": [
      "Cost function values 6051355.549449811\n",
      "Iteration 10\n"
     ]
    },
    {
     "name": "stderr",
     "output_type": "stream",
     "text": [
      "                                                                                \r"
     ]
    },
    {
     "name": "stdout",
     "output_type": "stream",
     "text": [
      "Cost function values 6050553.598292772\n",
      "Iteration 11\n"
     ]
    },
    {
     "name": "stderr",
     "output_type": "stream",
     "text": [
      "                                                                                \r"
     ]
    },
    {
     "name": "stdout",
     "output_type": "stream",
     "text": [
      "Cost function values 6045812.076494363\n",
      "Iteration 12\n"
     ]
    },
    {
     "name": "stderr",
     "output_type": "stream",
     "text": [
      "                                                                                \r"
     ]
    },
    {
     "name": "stdout",
     "output_type": "stream",
     "text": [
      "Cost function values 6012890.602163393\n",
      "Iteration 13\n"
     ]
    },
    {
     "name": "stderr",
     "output_type": "stream",
     "text": [
      "                                                                                \r"
     ]
    },
    {
     "name": "stdout",
     "output_type": "stream",
     "text": [
      "Cost function values 5668722.367608393\n",
      "Iteration 14\n"
     ]
    },
    {
     "name": "stderr",
     "output_type": "stream",
     "text": [
      "                                                                                \r"
     ]
    },
    {
     "name": "stdout",
     "output_type": "stream",
     "text": [
      "Cost function values 5602030.653939595\n",
      "Iteration 15\n"
     ]
    },
    {
     "name": "stderr",
     "output_type": "stream",
     "text": [
      "                                                                                \r"
     ]
    },
    {
     "name": "stdout",
     "output_type": "stream",
     "text": [
      "Cost function values 5599548.300071866\n"
     ]
    },
    {
     "name": "stderr",
     "output_type": "stream",
     "text": [
      "                                                                                \r"
     ]
    },
    {
     "name": "stdout",
     "output_type": "stream",
     "text": [
      "Iteration 0\n"
     ]
    },
    {
     "name": "stderr",
     "output_type": "stream",
     "text": [
      "                                                                                \r"
     ]
    },
    {
     "name": "stdout",
     "output_type": "stream",
     "text": [
      "Cost function values inf\n",
      "Iteration 1\n"
     ]
    },
    {
     "name": "stderr",
     "output_type": "stream",
     "text": [
      "                                                                                \r"
     ]
    },
    {
     "name": "stdout",
     "output_type": "stream",
     "text": [
      "Cost function values 8280102.6156306\n",
      "Iteration 2\n"
     ]
    },
    {
     "name": "stderr",
     "output_type": "stream",
     "text": [
      "                                                                                \r"
     ]
    },
    {
     "name": "stdout",
     "output_type": "stream",
     "text": [
      "Cost function values 7846784.87922548\n",
      "Iteration 3\n"
     ]
    },
    {
     "name": "stderr",
     "output_type": "stream",
     "text": [
      "                                                                                \r"
     ]
    },
    {
     "name": "stdout",
     "output_type": "stream",
     "text": [
      "Cost function values 7638784.229894099\n",
      "Iteration 4\n"
     ]
    },
    {
     "name": "stderr",
     "output_type": "stream",
     "text": [
      "                                                                                \r"
     ]
    },
    {
     "name": "stdout",
     "output_type": "stream",
     "text": [
      "Cost function values 7596767.967821854\n",
      "Iteration 5\n"
     ]
    },
    {
     "name": "stderr",
     "output_type": "stream",
     "text": [
      "                                                                                \r"
     ]
    },
    {
     "name": "stdout",
     "output_type": "stream",
     "text": [
      "Cost function values 7595641.916635383\n",
      "Iteration 6\n"
     ]
    },
    {
     "name": "stderr",
     "output_type": "stream",
     "text": [
      "                                                                                \r"
     ]
    },
    {
     "name": "stdout",
     "output_type": "stream",
     "text": [
      "Cost function values 7595560.884856804\n",
      "Iteration 7\n"
     ]
    },
    {
     "name": "stderr",
     "output_type": "stream",
     "text": [
      "                                                                                \r"
     ]
    },
    {
     "name": "stdout",
     "output_type": "stream",
     "text": [
      "Cost function values 7595547.215405993\n"
     ]
    },
    {
     "name": "stderr",
     "output_type": "stream",
     "text": [
      "                                                                                \r"
     ]
    },
    {
     "name": "stdout",
     "output_type": "stream",
     "text": [
      "Iteration 0\n"
     ]
    },
    {
     "name": "stderr",
     "output_type": "stream",
     "text": [
      "                                                                                \r"
     ]
    },
    {
     "name": "stdout",
     "output_type": "stream",
     "text": [
      "Cost function values inf\n",
      "Iteration 1\n"
     ]
    },
    {
     "name": "stderr",
     "output_type": "stream",
     "text": [
      "                                                                                \r"
     ]
    },
    {
     "name": "stdout",
     "output_type": "stream",
     "text": [
      "Cost function values 9008150.830829425\n",
      "Iteration 2\n"
     ]
    },
    {
     "name": "stderr",
     "output_type": "stream",
     "text": [
      "                                                                                \r"
     ]
    },
    {
     "name": "stdout",
     "output_type": "stream",
     "text": [
      "Cost function values 8819104.076554883\n",
      "Iteration 3\n"
     ]
    },
    {
     "name": "stderr",
     "output_type": "stream",
     "text": [
      "                                                                                \r"
     ]
    },
    {
     "name": "stdout",
     "output_type": "stream",
     "text": [
      "Cost function values 8763800.537609184\n",
      "Iteration 4\n"
     ]
    },
    {
     "name": "stderr",
     "output_type": "stream",
     "text": [
      "                                                                                \r"
     ]
    },
    {
     "name": "stdout",
     "output_type": "stream",
     "text": [
      "Cost function values 8727773.490051398\n",
      "Iteration 5\n"
     ]
    },
    {
     "name": "stderr",
     "output_type": "stream",
     "text": [
      "                                                                                \r"
     ]
    },
    {
     "name": "stdout",
     "output_type": "stream",
     "text": [
      "Cost function values 8716123.403448084\n",
      "Iteration 6\n"
     ]
    },
    {
     "name": "stderr",
     "output_type": "stream",
     "text": [
      "                                                                                \r"
     ]
    },
    {
     "name": "stdout",
     "output_type": "stream",
     "text": [
      "Cost function values 8707196.544812078\n",
      "Iteration 7\n"
     ]
    },
    {
     "name": "stderr",
     "output_type": "stream",
     "text": [
      "                                                                                \r"
     ]
    },
    {
     "name": "stdout",
     "output_type": "stream",
     "text": [
      "Cost function values 8703779.7110516\n",
      "Iteration 8\n"
     ]
    },
    {
     "name": "stderr",
     "output_type": "stream",
     "text": [
      "                                                                                \r"
     ]
    },
    {
     "name": "stdout",
     "output_type": "stream",
     "text": [
      "Cost function values 8702159.72768776\n",
      "Iteration 9\n"
     ]
    },
    {
     "name": "stderr",
     "output_type": "stream",
     "text": [
      "                                                                                \r"
     ]
    },
    {
     "name": "stdout",
     "output_type": "stream",
     "text": [
      "Cost function values 8701107.623932654\n",
      "Iteration 10\n"
     ]
    },
    {
     "name": "stderr",
     "output_type": "stream",
     "text": [
      "                                                                                \r"
     ]
    },
    {
     "name": "stdout",
     "output_type": "stream",
     "text": [
      "Cost function values 8695147.249352677\n",
      "Iteration 11\n"
     ]
    },
    {
     "name": "stderr",
     "output_type": "stream",
     "text": [
      "                                                                                \r"
     ]
    },
    {
     "name": "stdout",
     "output_type": "stream",
     "text": [
      "Cost function values 8692869.973045\n",
      "Iteration 12\n"
     ]
    },
    {
     "name": "stderr",
     "output_type": "stream",
     "text": [
      "                                                                                \r"
     ]
    },
    {
     "name": "stdout",
     "output_type": "stream",
     "text": [
      "Cost function values 8692038.927889377\n",
      "Iteration 13\n"
     ]
    },
    {
     "name": "stderr",
     "output_type": "stream",
     "text": [
      "                                                                                \r"
     ]
    },
    {
     "name": "stdout",
     "output_type": "stream",
     "text": [
      "Cost function values 8690002.758973341\n",
      "Iteration 14\n"
     ]
    },
    {
     "name": "stderr",
     "output_type": "stream",
     "text": [
      "                                                                                \r"
     ]
    },
    {
     "name": "stdout",
     "output_type": "stream",
     "text": [
      "Cost function values 8666259.8081417\n",
      "Iteration 15\n"
     ]
    },
    {
     "name": "stderr",
     "output_type": "stream",
     "text": [
      "                                                                                \r"
     ]
    },
    {
     "name": "stdout",
     "output_type": "stream",
     "text": [
      "Cost function values 8524902.392168734\n"
     ]
    },
    {
     "name": "stderr",
     "output_type": "stream",
     "text": [
      "                                                                                \r"
     ]
    },
    {
     "name": "stdout",
     "output_type": "stream",
     "text": [
      "Iteration 0\n"
     ]
    },
    {
     "name": "stderr",
     "output_type": "stream",
     "text": [
      "                                                                                \r"
     ]
    },
    {
     "name": "stdout",
     "output_type": "stream",
     "text": [
      "Cost function values inf\n",
      "Iteration 1\n"
     ]
    },
    {
     "name": "stderr",
     "output_type": "stream",
     "text": [
      "                                                                                \r"
     ]
    },
    {
     "name": "stdout",
     "output_type": "stream",
     "text": [
      "Cost function values 8373762.116951124\n",
      "Iteration 2\n"
     ]
    },
    {
     "name": "stderr",
     "output_type": "stream",
     "text": [
      "                                                                                \r"
     ]
    },
    {
     "name": "stdout",
     "output_type": "stream",
     "text": [
      "Cost function values 7509842.330537876\n",
      "Iteration 3\n"
     ]
    },
    {
     "name": "stderr",
     "output_type": "stream",
     "text": [
      "                                                                                \r"
     ]
    },
    {
     "name": "stdout",
     "output_type": "stream",
     "text": [
      "Cost function values 7146342.238411474\n",
      "Iteration 4\n"
     ]
    },
    {
     "name": "stderr",
     "output_type": "stream",
     "text": [
      "                                                                                \r"
     ]
    },
    {
     "name": "stdout",
     "output_type": "stream",
     "text": [
      "Cost function values 7126499.734027796\n",
      "Iteration 5\n"
     ]
    },
    {
     "name": "stderr",
     "output_type": "stream",
     "text": [
      "                                                                                \r"
     ]
    },
    {
     "name": "stdout",
     "output_type": "stream",
     "text": [
      "Cost function values 7121094.783562107\n",
      "Iteration 6\n"
     ]
    },
    {
     "name": "stderr",
     "output_type": "stream",
     "text": [
      "                                                                                \r"
     ]
    },
    {
     "name": "stdout",
     "output_type": "stream",
     "text": [
      "Cost function values 7119004.581470822\n",
      "Iteration 7\n"
     ]
    },
    {
     "name": "stderr",
     "output_type": "stream",
     "text": [
      "                                                                                \r"
     ]
    },
    {
     "name": "stdout",
     "output_type": "stream",
     "text": [
      "Cost function values 7117237.581816428\n",
      "Iteration 8\n"
     ]
    },
    {
     "name": "stderr",
     "output_type": "stream",
     "text": [
      "                                                                                \r"
     ]
    },
    {
     "name": "stdout",
     "output_type": "stream",
     "text": [
      "Cost function values 7115395.618716272\n",
      "Iteration 9\n"
     ]
    },
    {
     "name": "stderr",
     "output_type": "stream",
     "text": [
      "                                                                                \r"
     ]
    },
    {
     "name": "stdout",
     "output_type": "stream",
     "text": [
      "Cost function values 7114769.977197345\n",
      "Iteration 10\n"
     ]
    },
    {
     "name": "stderr",
     "output_type": "stream",
     "text": [
      "                                                                                \r"
     ]
    },
    {
     "name": "stdout",
     "output_type": "stream",
     "text": [
      "Cost function values 7114367.357594196\n",
      "Iteration 11\n"
     ]
    },
    {
     "name": "stderr",
     "output_type": "stream",
     "text": [
      "                                                                                \r"
     ]
    },
    {
     "name": "stdout",
     "output_type": "stream",
     "text": [
      "Cost function values 7114075.820098166\n",
      "Iteration 12\n"
     ]
    },
    {
     "name": "stderr",
     "output_type": "stream",
     "text": [
      "                                                                                \r"
     ]
    },
    {
     "name": "stdout",
     "output_type": "stream",
     "text": [
      "Cost function values 7113781.041682037\n",
      "Iteration 13\n"
     ]
    },
    {
     "name": "stderr",
     "output_type": "stream",
     "text": [
      "                                                                                \r"
     ]
    },
    {
     "name": "stdout",
     "output_type": "stream",
     "text": [
      "Cost function values 7113502.258198252\n",
      "Iteration 14\n"
     ]
    },
    {
     "name": "stderr",
     "output_type": "stream",
     "text": [
      "                                                                                \r"
     ]
    },
    {
     "name": "stdout",
     "output_type": "stream",
     "text": [
      "Cost function values 7113311.373592409\n",
      "Iteration 15\n"
     ]
    },
    {
     "name": "stderr",
     "output_type": "stream",
     "text": [
      "                                                                                \r"
     ]
    },
    {
     "name": "stdout",
     "output_type": "stream",
     "text": [
      "Cost function values 7113210.850990934\n"
     ]
    },
    {
     "name": "stderr",
     "output_type": "stream",
     "text": [
      "                                                                                \r"
     ]
    },
    {
     "name": "stdout",
     "output_type": "stream",
     "text": [
      "Iteration 0\n"
     ]
    },
    {
     "name": "stderr",
     "output_type": "stream",
     "text": [
      "                                                                                \r"
     ]
    },
    {
     "name": "stdout",
     "output_type": "stream",
     "text": [
      "Cost function values inf\n",
      "Iteration 1\n"
     ]
    },
    {
     "name": "stderr",
     "output_type": "stream",
     "text": [
      "                                                                                \r"
     ]
    },
    {
     "name": "stdout",
     "output_type": "stream",
     "text": [
      "Cost function values 8972828.92405828\n",
      "Iteration 2\n"
     ]
    },
    {
     "name": "stderr",
     "output_type": "stream",
     "text": [
      "                                                                                \r"
     ]
    },
    {
     "name": "stdout",
     "output_type": "stream",
     "text": [
      "Cost function values 8789834.29285686\n",
      "Iteration 3\n"
     ]
    },
    {
     "name": "stderr",
     "output_type": "stream",
     "text": [
      "                                                                                \r"
     ]
    },
    {
     "name": "stdout",
     "output_type": "stream",
     "text": [
      "Cost function values 8773938.04682192\n",
      "Iteration 4\n"
     ]
    },
    {
     "name": "stderr",
     "output_type": "stream",
     "text": [
      "                                                                                \r"
     ]
    },
    {
     "name": "stdout",
     "output_type": "stream",
     "text": [
      "Cost function values 8765096.777863715\n",
      "Iteration 5\n"
     ]
    },
    {
     "name": "stderr",
     "output_type": "stream",
     "text": [
      "                                                                                \r"
     ]
    },
    {
     "name": "stdout",
     "output_type": "stream",
     "text": [
      "Cost function values 8739652.224155951\n",
      "Iteration 6\n"
     ]
    },
    {
     "name": "stderr",
     "output_type": "stream",
     "text": [
      "                                                                                \r"
     ]
    },
    {
     "name": "stdout",
     "output_type": "stream",
     "text": [
      "Cost function values 8704871.371414676\n",
      "Iteration 7\n"
     ]
    },
    {
     "name": "stderr",
     "output_type": "stream",
     "text": [
      "                                                                                \r"
     ]
    },
    {
     "name": "stdout",
     "output_type": "stream",
     "text": [
      "Cost function values 8696004.190604532\n",
      "Iteration 8\n"
     ]
    },
    {
     "name": "stderr",
     "output_type": "stream",
     "text": [
      "                                                                                \r"
     ]
    },
    {
     "name": "stdout",
     "output_type": "stream",
     "text": [
      "Cost function values 8694091.158258382\n",
      "Iteration 9\n"
     ]
    },
    {
     "name": "stderr",
     "output_type": "stream",
     "text": [
      "                                                                                \r"
     ]
    },
    {
     "name": "stdout",
     "output_type": "stream",
     "text": [
      "Cost function values 8693719.536082473\n",
      "Iteration 10\n"
     ]
    },
    {
     "name": "stderr",
     "output_type": "stream",
     "text": [
      "                                                                                \r"
     ]
    },
    {
     "name": "stdout",
     "output_type": "stream",
     "text": [
      "Cost function values 8693521.4612246\n",
      "Iteration 11\n"
     ]
    },
    {
     "name": "stderr",
     "output_type": "stream",
     "text": [
      "                                                                                \r"
     ]
    },
    {
     "name": "stdout",
     "output_type": "stream",
     "text": [
      "Cost function values 8693219.271669399\n",
      "Iteration 12\n"
     ]
    },
    {
     "name": "stderr",
     "output_type": "stream",
     "text": [
      "[Stage 2217:================================================>     (29 + 3) / 32]\r"
     ]
    },
    {
     "name": "stdout",
     "output_type": "stream",
     "text": [
      "Cost function values 8693183.72605247\n"
     ]
    },
    {
     "name": "stderr",
     "output_type": "stream",
     "text": [
      "\r",
      "[Stage 2217:==================================================>   (30 + 2) / 32]\r",
      "\r",
      "                                                                                \r"
     ]
    }
   ],
   "source": [
    "data = spark.createDataFrame(pd.read_csv(\"./data.csv\"))\n",
    "k = 23 # length of unique labels\n",
    "partitions = np.array([32])\n",
    "iterations = 5\n",
    "\n",
    "part_cost_ll, part_time_ll =  avg_cost_time_results(k=k, data=data, partitions=partitions, iterations=iterations,\n",
    "                                                   func=kmeans_ll, L=1)"
   ]
  },
  {
   "cell_type": "code",
   "execution_count": 70,
   "id": "2c4fcde5",
   "metadata": {},
   "outputs": [],
   "source": [
    "part_cost_ll = pad_arrays(part_cost_ll)\n",
    "\n",
    "part_time_ll = np.array(part_time_ll)\n",
    "part_cost_ll = np.array(part_cost_ll)\n",
    "\n",
    "# Mask padded values\n",
    "mask_ll = (part_cost_ll != 0)\n",
    "\n",
    "# Calculate average and standard deviation over columns considering non-padded elements only\n",
    "avg_cost_ll = np.sum(part_cost_ll * mask_ll, axis=0) / np.sum(mask_ll, axis=0)\n",
    "std_cost_ll = np.sqrt(np.sum(((part_cost_ll - avg_cost_ll) ** 2) * mask_ll, axis=0) / np.sum(mask_ll, axis=0))\n",
    "\n",
    "avg_time_ll = np.mean(part_time_ll)\n",
    "std_time_ll = np.std(part_time_ll)\n"
   ]
  },
  {
   "cell_type": "code",
   "execution_count": 100,
   "id": "bb3ddcb4",
   "metadata": {},
   "outputs": [
    {
     "data": {
      "image/png": "[encoded data removed]",
      "text/plain": [
       "<Figure size 720x432 with 2 Axes>"
      ]
     },
     "metadata": {
      "needs_background": "light"
     },
     "output_type": "display_data"
    }
   ],
   "source": [
    "# Plotting the average cost over iterations with error bars representing standard deviation\n",
    "plt.figure(figsize=(10, 6))\n",
    "plt.errorbar(range(1, len(avg_cost) + 1), avg_cost, yerr=std_cost, fmt='o-', color='green', ecolor='lightgreen', elinewidth=3, capsize=0, label='Random KMeans')\n",
    "plt.errorbar(range(1, len(avg_cost_ll) + 1), avg_cost_ll, yerr=std_cost_ll, fmt='o-', color='orange', ecolor='lightgray', elinewidth=3, capsize=0, label='KMeans ll')\n",
    "plt.xlabel('Iterations')\n",
    "plt.ylabel('Average Cost')\n",
    "plt.title('Average Cost Over Iterations with Standard Deviation Error Bars')\n",
    "plt.ylim(6.5*1e6, 10.5*1e6)\n",
    "plt.grid(True)\n",
    "plt.legend(loc='upper left')\n",
    "\n",
    "# Creating a bar plot in the top right corner for avg_time and avg_time * 2\n",
    "ax = plt.axes([0.65, 0.6, 0.25, 0.2])  # [left, bottom, width, height]\n",
    "ax.bar(1, avg_time, width=0.4, align='center', alpha=0.7, color='green', label='Random KMeans', yerr=std_time, capsize=5)\n",
    "ax.bar(2, avg_time_ll, width=0.4, align='center', alpha=0.7, color='orange', label='KMeans ll', yerr=std_time_ll, capsize=5)\n",
    "ax.set_xticks([1, 2])\n",
    "ax.set_xticklabels(['Random KMeans', 'KMeans ll'])\n",
    "ax.set_ylabel('Avg Time')\n",
    "ax.set_title('Execution Time')\n",
    "\n",
    "\n",
    "# Set legend for both the plots\n",
    "plt.show()"
   ]
  },
  {
   "cell_type": "code",
   "execution_count": null,
   "id": "66826af8",
   "metadata": {},
   "outputs": [],
   "source": []
  }
 ],
 "metadata": {
  "kernelspec": {
   "display_name": "Python 3 (ipykernel)",
   "language": "python",
   "name": "python3"
  },
  "language_info": {
   "codemirror_mode": {
    "name": "ipython",
    "version": 3
   },
   "file_extension": ".py",
   "mimetype": "text/x-python",
   "name": "python",
   "nbconvert_exporter": "python",
   "pygments_lexer": "ipython3",
   "version": "3.10.12"
  }
 },
 "nbformat": 4,
 "nbformat_minor": 5
}
